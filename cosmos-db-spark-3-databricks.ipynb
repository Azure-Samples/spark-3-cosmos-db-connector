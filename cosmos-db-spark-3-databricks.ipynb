{
 "cells": [
  {
   "cell_type": "markdown",
   "id": "modern-collar",
   "metadata": {},
   "source": [
    "### Read from the dataset"
   ]
  },
  {
   "cell_type": "code",
   "execution_count": null,
   "id": "finished-statement",
   "metadata": {},
   "outputs": [],
   "source": [
    "df = spark.read.format('csv').options(header='true').load('dbfs:/databricks-datasets/COVID/coronavirusdataset/SeoulFloating.csv')"
   ]
  },
  {
   "cell_type": "markdown",
   "id": "tropical-debut",
   "metadata": {},
   "source": [
    "### Create the database and collection using the Catalog API"
   ]
  },
  {
   "cell_type": "code",
   "execution_count": null,
   "id": "seven-headline",
   "metadata": {},
   "outputs": [],
   "source": [
    "cosmosEndpoint = \"https://REPLACEME.documents.azure.com:443/\"\n",
    "cosmosMasterKey = \"REPLACEME\"\n",
    "cosmosDatabaseName = \"sampleDB\"\n",
    "cosmosContainerName = \"sampleContainer\"\n",
    "\n",
    "spark.conf.set(\"spark.sql.catalog.cosmosCatalog\", \"com.azure.cosmos.spark.CosmosCatalog\")\n",
    "spark.conf.set(\"spark.sql.catalog.cosmosCatalog.spark.cosmos.accountEndpoint\", cosmosEndpoint)\n",
    "spark.conf.set(\"spark.sql.catalog.cosmosCatalog.spark.cosmos.accountKey\", cosmosMasterKey)\n",
    "\n",
    "spark.sql(\"CREATE DATABASE IF NOT EXISTS cosmosCatalog.{};\".format(cosmosDatabaseName))\n",
    "spark.sql(\"CREATE TABLE IF NOT EXISTS cosmosCatalog.{}.{} using cosmos.items TBLPROPERTIES(partitionKeyPath = '/id', manualThroughput = '1100')\".format(cosmosDatabaseName, cosmosContainerName))\n",
    "\n"
   ]
  },
  {
   "cell_type": "markdown",
   "id": "falling-christmas",
   "metadata": {},
   "source": [
    "### Ingesting the data"
   ]
  },
  {
   "cell_type": "code",
   "execution_count": null,
   "id": "bridal-science",
   "metadata": {},
   "outputs": [],
   "source": [
    "#Set the write configuration\n",
    "writeCfg = {\n",
    "  \"spark.cosmos.accountEndpoint\": cosmosEndpoint,\n",
    "  \"spark.cosmos.accountKey\": cosmosMasterKey,\n",
    "  \"spark.cosmos.database\": cosmosDatabaseName,\n",
    "  \"spark.cosmos.container\": cosmosContainerName,\n",
    "  \"spark.cosmos.write.strategy\": \"ItemOverwrite\",\n",
    "}\n",
    "\n",
    "#ingest the data\n",
    "df\\\n",
    "   .toDF(\"date\",\"hour\",\"birth_year\",\"sex\",\"province\",\"city\",\"id\")\\\n",
    "   .write\\\n",
    "   .format(\"cosmos.items\")\\\n",
    "   .options(**writeCfg)\\\n",
    "   .mode(\"APPEND\")\\\n",
    "   .save()\n"
   ]
  },
  {
   "cell_type": "markdown",
   "id": "mexican-webster",
   "metadata": {},
   "source": [
    "### Reading the data"
   ]
  },
  {
   "cell_type": "code",
   "execution_count": null,
   "id": "above-column",
   "metadata": {},
   "outputs": [],
   "source": [
    "#Set the read configuration\n",
    "readCfg = {\n",
    "  \"spark.cosmos.accountEndpoint\": cosmosEndpoint,\n",
    "  \"spark.cosmos.accountKey\": cosmosMasterKey,\n",
    "  \"spark.cosmos.database\": cosmosDatabaseName,\n",
    "  \"spark.cosmos.container\": cosmosContainerName,\n",
    "  \"spark.cosmos.partitioning.strategy\": \"Restrictive\",\n",
    "  \"spark.cosmos.read.inferSchemaEnabled\" : \"false\"\n",
    "}\n",
    "\n",
    "#Read the data into a Spark dataframe and print the count\n",
    "query_df = spark.read.format(\"cosmos.items\").options(**readCfg).load()\n",
    "print(query_df.count())\n"
   ]
  }
 ],
 "metadata": {
  "kernelspec": {
   "display_name": "Python 3",
   "language": "python",
   "name": "python3"
  },
  "language_info": {
   "codemirror_mode": {
    "name": "ipython",
    "version": 3
   },
   "file_extension": ".py",
   "mimetype": "text/x-python",
   "name": "python",
   "nbconvert_exporter": "python",
   "pygments_lexer": "ipython3",
   "version": "3.8.5"
  }
 },
 "nbformat": 4,
 "nbformat_minor": 5
}
